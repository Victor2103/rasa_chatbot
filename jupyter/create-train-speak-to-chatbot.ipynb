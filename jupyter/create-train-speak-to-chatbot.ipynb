{
 "cells": [
  {
   "cell_type": "markdown",
   "metadata": {
    "tags": []
   },
   "source": [
    "# Tutorial : Train and deploy a rasa chatbot\n",
    "\n",
    "The goal of this tutorial is to create, train and speak with an assistant. This assistant will be able to speak to you and say hello. To use the real chatbot, please open a vscode repository. \n",
    "\n",
    "## Install the requirements\n",
    "\n",
    "The project was created in a venv environment. To add it in a jupyter environment, you must install pip and the file requirements_rasa.txt. Run this for simplification. You just have to run the next cell one time. It permits to install rasa and play with the chatbot. You can stop and restart your notebook, the ressource will always be here. "
   ]
  },
  {
   "cell_type": "code",
   "execution_count": 1,
   "metadata": {
    "collapsed": true,
    "jupyter": {
     "outputs_hidden": true
    },
    "tags": []
   },
   "outputs": [
    {
     "name": "stdout",
     "output_type": "stream",
     "text": [
      "Collecting package metadata (current_repodata.json): done\n",
      "Solving environment: done\n",
      "\n",
      "# All requested packages already installed.\n",
      "\n",
      "Retrieving notices: ...working... done\n",
      "\n",
      "Note: you may need to restart the kernel to use updated packages.\n",
      "Requirement already satisfied: absl-py==0.13.0 in /workspace/.miniconda3/lib/python3.9/site-packages (from -r ../rasa_bot/requirements_rasa.txt (line 1)) (0.13.0)\n",
      "Requirement already satisfied: aio-pika==8.2.4 in /workspace/.miniconda3/lib/python3.9/site-packages (from -r ../rasa_bot/requirements_rasa.txt (line 2)) (8.2.4)\n",
      "Requirement already satisfied: aiofiles==22.1.0 in /workspace/.miniconda3/lib/python3.9/site-packages (from -r ../rasa_bot/requirements_rasa.txt (line 3)) (22.1.0)\n",
      "Requirement already satisfied: aiogram==2.15 in /workspace/.miniconda3/lib/python3.9/site-packages (from -r ../rasa_bot/requirements_rasa.txt (line 4)) (2.15)\n",
      "Requirement already satisfied: aiohttp==3.7.4 in /workspace/.miniconda3/lib/python3.9/site-packages (from -r ../rasa_bot/requirements_rasa.txt (line 5)) (3.7.4)\n",
      "Requirement already satisfied: aiormq==6.4.2 in /workspace/.miniconda3/lib/python3.9/site-packages (from -r ../rasa_bot/requirements_rasa.txt (line 6)) (6.4.2)\n",
      "Requirement already satisfied: APScheduler==3.7.0 in /workspace/.miniconda3/lib/python3.9/site-packages (from -r ../rasa_bot/requirements_rasa.txt (line 7)) (3.7.0)\n",
      "Requirement already satisfied: astunparse==1.6.3 in /workspace/.miniconda3/lib/python3.9/site-packages (from -r ../rasa_bot/requirements_rasa.txt (line 8)) (1.6.3)\n",
      "Requirement already satisfied: async-timeout==3.0.1 in /workspace/.miniconda3/lib/python3.9/site-packages (from -r ../rasa_bot/requirements_rasa.txt (line 9)) (3.0.1)\n",
      "Requirement already satisfied: attrs==21.2.0 in /workspace/.miniconda3/lib/python3.9/site-packages (from -r ../rasa_bot/requirements_rasa.txt (line 10)) (21.2.0)\n",
      "Requirement already satisfied: Babel==2.10.3 in /workspace/.miniconda3/lib/python3.9/site-packages (from -r ../rasa_bot/requirements_rasa.txt (line 11)) (2.10.3)\n",
      "Requirement already satisfied: bidict==0.22.0 in /workspace/.miniconda3/lib/python3.9/site-packages (from -r ../rasa_bot/requirements_rasa.txt (line 12)) (0.22.0)\n",
      "Requirement already satisfied: boto3==1.24.89 in /workspace/.miniconda3/lib/python3.9/site-packages (from -r ../rasa_bot/requirements_rasa.txt (line 13)) (1.24.89)\n",
      "Requirement already satisfied: botocore==1.27.89 in /workspace/.miniconda3/lib/python3.9/site-packages (from -r ../rasa_bot/requirements_rasa.txt (line 14)) (1.27.89)\n",
      "Requirement already satisfied: brotlipy==0.7.0 in /workspace/.miniconda3/lib/python3.9/site-packages (from -r ../rasa_bot/requirements_rasa.txt (line 15)) (0.7.0)\n",
      "Requirement already satisfied: CacheControl==0.12.11 in /workspace/.miniconda3/lib/python3.9/site-packages (from -r ../rasa_bot/requirements_rasa.txt (line 16)) (0.12.11)\n",
      "Requirement already satisfied: cachetools==4.2.4 in /workspace/.miniconda3/lib/python3.9/site-packages (from -r ../rasa_bot/requirements_rasa.txt (line 17)) (4.2.4)\n",
      "Requirement already satisfied: certifi==2022.9.24 in /workspace/.miniconda3/lib/python3.9/site-packages (from -r ../rasa_bot/requirements_rasa.txt (line 18)) (2022.9.24)\n",
      "Requirement already satisfied: cffi==1.15.1 in /workspace/.miniconda3/lib/python3.9/site-packages (from -r ../rasa_bot/requirements_rasa.txt (line 19)) (1.15.1)\n",
      "Requirement already satisfied: chardet==3.0.4 in /workspace/.miniconda3/lib/python3.9/site-packages (from -r ../rasa_bot/requirements_rasa.txt (line 20)) (3.0.4)\n",
      "Requirement already satisfied: charset-normalizer==2.1.1 in /workspace/.miniconda3/lib/python3.9/site-packages (from -r ../rasa_bot/requirements_rasa.txt (line 21)) (2.1.1)\n",
      "Requirement already satisfied: cloudpickle==1.6.0 in /workspace/.miniconda3/lib/python3.9/site-packages (from -r ../rasa_bot/requirements_rasa.txt (line 22)) (1.6.0)\n",
      "Requirement already satisfied: colorclass==2.2.2 in /workspace/.miniconda3/lib/python3.9/site-packages (from -r ../rasa_bot/requirements_rasa.txt (line 23)) (2.2.2)\n",
      "Requirement already satisfied: coloredlogs==15.0.1 in /workspace/.miniconda3/lib/python3.9/site-packages (from -r ../rasa_bot/requirements_rasa.txt (line 24)) (15.0.1)\n",
      "Requirement already satisfied: colorhash==1.0.4 in /workspace/.miniconda3/lib/python3.9/site-packages (from -r ../rasa_bot/requirements_rasa.txt (line 25)) (1.0.4)\n",
      "Requirement already satisfied: cryptography==38.0.1 in /workspace/.miniconda3/lib/python3.9/site-packages (from -r ../rasa_bot/requirements_rasa.txt (line 26)) (38.0.1)\n",
      "Requirement already satisfied: cycler==0.11.0 in /workspace/.miniconda3/lib/python3.9/site-packages (from -r ../rasa_bot/requirements_rasa.txt (line 27)) (0.11.0)\n",
      "Requirement already satisfied: dask==2022.2.0 in /workspace/.miniconda3/lib/python3.9/site-packages (from -r ../rasa_bot/requirements_rasa.txt (line 28)) (2022.2.0)\n",
      "Requirement already satisfied: dnspython==1.16.0 in /workspace/.miniconda3/lib/python3.9/site-packages (from -r ../rasa_bot/requirements_rasa.txt (line 29)) (1.16.0)\n",
      "Requirement already satisfied: docopt==0.6.2 in /workspace/.miniconda3/lib/python3.9/site-packages (from -r ../rasa_bot/requirements_rasa.txt (line 30)) (0.6.2)\n",
      "Requirement already satisfied: fbmessenger==6.0.0 in /workspace/.miniconda3/lib/python3.9/site-packages (from -r ../rasa_bot/requirements_rasa.txt (line 31)) (6.0.0)\n",
      "Requirement already satisfied: fire==0.4.0 in /workspace/.miniconda3/lib/python3.9/site-packages (from -r ../rasa_bot/requirements_rasa.txt (line 32)) (0.4.0)\n",
      "Requirement already satisfied: flatbuffers==2.0.7 in /workspace/.miniconda3/lib/python3.9/site-packages (from -r ../rasa_bot/requirements_rasa.txt (line 33)) (2.0.7)\n",
      "Requirement already satisfied: fsspec==2022.8.2 in /workspace/.miniconda3/lib/python3.9/site-packages (from -r ../rasa_bot/requirements_rasa.txt (line 34)) (2022.8.2)\n",
      "Requirement already satisfied: future==0.18.2 in /workspace/.miniconda3/lib/python3.9/site-packages (from -r ../rasa_bot/requirements_rasa.txt (line 35)) (0.18.2)\n",
      "Requirement already satisfied: gast==0.4.0 in /workspace/.miniconda3/lib/python3.9/site-packages (from -r ../rasa_bot/requirements_rasa.txt (line 36)) (0.4.0)\n",
      "Requirement already satisfied: google-auth==1.35.0 in /workspace/.miniconda3/lib/python3.9/site-packages (from -r ../rasa_bot/requirements_rasa.txt (line 37)) (1.35.0)\n",
      "Requirement already satisfied: google-auth-oauthlib==0.4.6 in /workspace/.miniconda3/lib/python3.9/site-packages (from -r ../rasa_bot/requirements_rasa.txt (line 38)) (0.4.6)\n",
      "Requirement already satisfied: google-pasta==0.2.0 in /workspace/.miniconda3/lib/python3.9/site-packages (from -r ../rasa_bot/requirements_rasa.txt (line 39)) (0.2.0)\n",
      "Requirement already satisfied: greenlet==1.1.3.post0 in /workspace/.miniconda3/lib/python3.9/site-packages (from -r ../rasa_bot/requirements_rasa.txt (line 40)) (1.1.3.post0)\n",
      "Requirement already satisfied: grpcio==1.49.1 in /workspace/.miniconda3/lib/python3.9/site-packages (from -r ../rasa_bot/requirements_rasa.txt (line 41)) (1.49.1)\n",
      "Requirement already satisfied: h5py==3.7.0 in /workspace/.miniconda3/lib/python3.9/site-packages (from -r ../rasa_bot/requirements_rasa.txt (line 42)) (3.7.0)\n",
      "Requirement already satisfied: httptools==0.5.0 in /workspace/.miniconda3/lib/python3.9/site-packages (from -r ../rasa_bot/requirements_rasa.txt (line 43)) (0.5.0)\n",
      "Requirement already satisfied: humanfriendly==10.0 in /workspace/.miniconda3/lib/python3.9/site-packages (from -r ../rasa_bot/requirements_rasa.txt (line 44)) (10.0)\n",
      "Requirement already satisfied: idna==3.4 in /workspace/.miniconda3/lib/python3.9/site-packages (from -r ../rasa_bot/requirements_rasa.txt (line 45)) (3.4)\n",
      "Requirement already satisfied: importlib-metadata==5.0.0 in /workspace/.miniconda3/lib/python3.9/site-packages (from -r ../rasa_bot/requirements_rasa.txt (line 46)) (5.0.0)\n",
      "Requirement already satisfied: importlib-resources==5.10.0 in /workspace/.miniconda3/lib/python3.9/site-packages (from -r ../rasa_bot/requirements_rasa.txt (line 47)) (5.10.0)\n",
      "Requirement already satisfied: jmespath==1.0.1 in /workspace/.miniconda3/lib/python3.9/site-packages (from -r ../rasa_bot/requirements_rasa.txt (line 48)) (1.0.1)\n",
      "Requirement already satisfied: joblib==1.0.1 in /workspace/.miniconda3/lib/python3.9/site-packages (from -r ../rasa_bot/requirements_rasa.txt (line 49)) (1.0.1)\n",
      "Requirement already satisfied: jsonpickle==2.0.0 in /workspace/.miniconda3/lib/python3.9/site-packages (from -r ../rasa_bot/requirements_rasa.txt (line 50)) (2.0.0)\n",
      "Requirement already satisfied: jsonschema==4.4.0 in /workspace/.miniconda3/lib/python3.9/site-packages (from -r ../rasa_bot/requirements_rasa.txt (line 51)) (4.4.0)\n",
      "Requirement already satisfied: kafka-python==2.0.2 in /workspace/.miniconda3/lib/python3.9/site-packages (from -r ../rasa_bot/requirements_rasa.txt (line 52)) (2.0.2)\n",
      "Requirement already satisfied: keras==2.7.0 in /workspace/.miniconda3/lib/python3.9/site-packages (from -r ../rasa_bot/requirements_rasa.txt (line 53)) (2.7.0)\n",
      "Requirement already satisfied: Keras-Preprocessing==1.1.2 in /workspace/.miniconda3/lib/python3.9/site-packages (from -r ../rasa_bot/requirements_rasa.txt (line 54)) (1.1.2)\n",
      "Requirement already satisfied: kiwisolver==1.4.4 in /workspace/.miniconda3/lib/python3.9/site-packages (from -r ../rasa_bot/requirements_rasa.txt (line 55)) (1.4.4)\n",
      "Requirement already satisfied: libclang==14.0.6 in /workspace/.miniconda3/lib/python3.9/site-packages (from -r ../rasa_bot/requirements_rasa.txt (line 56)) (14.0.6)\n",
      "Requirement already satisfied: locket==1.0.0 in /workspace/.miniconda3/lib/python3.9/site-packages (from -r ../rasa_bot/requirements_rasa.txt (line 57)) (1.0.0)\n",
      "Requirement already satisfied: Markdown==3.4.1 in /workspace/.miniconda3/lib/python3.9/site-packages (from -r ../rasa_bot/requirements_rasa.txt (line 58)) (3.4.1)\n",
      "Requirement already satisfied: MarkupSafe==2.1.1 in /workspace/.miniconda3/lib/python3.9/site-packages (from -r ../rasa_bot/requirements_rasa.txt (line 59)) (2.1.1)\n",
      "Requirement already satisfied: matplotlib==3.3.4 in /workspace/.miniconda3/lib/python3.9/site-packages (from -r ../rasa_bot/requirements_rasa.txt (line 60)) (3.3.4)\n",
      "Requirement already satisfied: mattermostwrapper==2.2 in /workspace/.miniconda3/lib/python3.9/site-packages (from -r ../rasa_bot/requirements_rasa.txt (line 61)) (2.2)\n",
      "Requirement already satisfied: msgpack==1.0.4 in /workspace/.miniconda3/lib/python3.9/site-packages (from -r ../rasa_bot/requirements_rasa.txt (line 62)) (1.0.4)\n",
      "Requirement already satisfied: multidict==5.2.0 in /workspace/.miniconda3/lib/python3.9/site-packages (from -r ../rasa_bot/requirements_rasa.txt (line 63)) (5.2.0)\n",
      "Requirement already satisfied: networkx==2.6.3 in /workspace/.miniconda3/lib/python3.9/site-packages (from -r ../rasa_bot/requirements_rasa.txt (line 64)) (2.6.3)\n",
      "Requirement already satisfied: numpy==1.19.5 in /workspace/.miniconda3/lib/python3.9/site-packages (from -r ../rasa_bot/requirements_rasa.txt (line 65)) (1.19.5)\n",
      "Requirement already satisfied: oauthlib==3.2.1 in /workspace/.miniconda3/lib/python3.9/site-packages (from -r ../rasa_bot/requirements_rasa.txt (line 66)) (3.2.1)\n",
      "Requirement already satisfied: opt-einsum==3.3.0 in /workspace/.miniconda3/lib/python3.9/site-packages (from -r ../rasa_bot/requirements_rasa.txt (line 67)) (3.3.0)\n",
      "Requirement already satisfied: packaging==20.9 in /workspace/.miniconda3/lib/python3.9/site-packages (from -r ../rasa_bot/requirements_rasa.txt (line 68)) (20.9)\n",
      "Requirement already satisfied: pamqp==3.2.1 in /workspace/.miniconda3/lib/python3.9/site-packages (from -r ../rasa_bot/requirements_rasa.txt (line 69)) (3.2.1)\n",
      "Requirement already satisfied: partd==1.3.0 in /workspace/.miniconda3/lib/python3.9/site-packages (from -r ../rasa_bot/requirements_rasa.txt (line 70)) (1.3.0)\n",
      "Requirement already satisfied: Pillow==9.2.0 in /workspace/.miniconda3/lib/python3.9/site-packages (from -r ../rasa_bot/requirements_rasa.txt (line 71)) (9.2.0)\n",
      "Requirement already satisfied: prompt-toolkit==3.0.28 in /workspace/.miniconda3/lib/python3.9/site-packages (from -r ../rasa_bot/requirements_rasa.txt (line 72)) (3.0.28)\n",
      "Requirement already satisfied: protobuf==3.19.6 in /workspace/.miniconda3/lib/python3.9/site-packages (from -r ../rasa_bot/requirements_rasa.txt (line 73)) (3.19.6)\n",
      "Requirement already satisfied: psycopg2-binary==2.9.4 in /workspace/.miniconda3/lib/python3.9/site-packages (from -r ../rasa_bot/requirements_rasa.txt (line 74)) (2.9.4)\n",
      "Requirement already satisfied: pyasn1==0.4.8 in /workspace/.miniconda3/lib/python3.9/site-packages (from -r ../rasa_bot/requirements_rasa.txt (line 75)) (0.4.8)\n",
      "Requirement already satisfied: pyasn1-modules==0.2.8 in /workspace/.miniconda3/lib/python3.9/site-packages (from -r ../rasa_bot/requirements_rasa.txt (line 76)) (0.2.8)\n",
      "Requirement already satisfied: pycosat==0.6.3 in /workspace/.miniconda3/lib/python3.9/site-packages (from -r ../rasa_bot/requirements_rasa.txt (line 77)) (0.6.3)\n",
      "Requirement already satisfied: pycparser==2.21 in /workspace/.miniconda3/lib/python3.9/site-packages (from -r ../rasa_bot/requirements_rasa.txt (line 78)) (2.21)\n",
      "Requirement already satisfied: pydot==1.4.2 in /workspace/.miniconda3/lib/python3.9/site-packages (from -r ../rasa_bot/requirements_rasa.txt (line 79)) (1.4.2)\n",
      "Requirement already satisfied: PyJWT==2.5.0 in /workspace/.miniconda3/lib/python3.9/site-packages (from -r ../rasa_bot/requirements_rasa.txt (line 80)) (2.5.0)\n",
      "Requirement already satisfied: pykwalify==1.8.0 in /workspace/.miniconda3/lib/python3.9/site-packages (from -r ../rasa_bot/requirements_rasa.txt (line 81)) (1.8.0)\n",
      "Requirement already satisfied: pymongo==3.10.1 in /workspace/.miniconda3/lib/python3.9/site-packages (from -r ../rasa_bot/requirements_rasa.txt (line 82)) (3.10.1)\n",
      "Requirement already satisfied: pyOpenSSL==22.1.0 in /workspace/.miniconda3/lib/python3.9/site-packages (from -r ../rasa_bot/requirements_rasa.txt (line 83)) (22.1.0)\n",
      "Requirement already satisfied: pyparsing==3.0.9 in /workspace/.miniconda3/lib/python3.9/site-packages (from -r ../rasa_bot/requirements_rasa.txt (line 84)) (3.0.9)\n",
      "Requirement already satisfied: pyrsistent==0.18.1 in /workspace/.miniconda3/lib/python3.9/site-packages (from -r ../rasa_bot/requirements_rasa.txt (line 85)) (0.18.1)\n",
      "Requirement already satisfied: python-crfsuite==0.9.8 in /workspace/.miniconda3/lib/python3.9/site-packages (from -r ../rasa_bot/requirements_rasa.txt (line 86)) (0.9.8)\n",
      "Requirement already satisfied: python-dateutil==2.8.2 in /workspace/.miniconda3/lib/python3.9/site-packages (from -r ../rasa_bot/requirements_rasa.txt (line 87)) (2.8.2)\n",
      "Requirement already satisfied: python-engineio==4.3.4 in /workspace/.miniconda3/lib/python3.9/site-packages (from -r ../rasa_bot/requirements_rasa.txt (line 88)) (4.3.4)\n",
      "Requirement already satisfied: python-socketio==5.7.1 in /workspace/.miniconda3/lib/python3.9/site-packages (from -r ../rasa_bot/requirements_rasa.txt (line 89)) (5.7.1)\n",
      "Requirement already satisfied: pytz==2021.3 in /workspace/.miniconda3/lib/python3.9/site-packages (from -r ../rasa_bot/requirements_rasa.txt (line 90)) (2021.3)\n",
      "Requirement already satisfied: PyYAML==6.0 in /workspace/.miniconda3/lib/python3.9/site-packages (from -r ../rasa_bot/requirements_rasa.txt (line 91)) (6.0)\n",
      "Requirement already satisfied: questionary==1.10.0 in /workspace/.miniconda3/lib/python3.9/site-packages (from -r ../rasa_bot/requirements_rasa.txt (line 92)) (1.10.0)\n",
      "Requirement already satisfied: randomname==0.1.5 in /workspace/.miniconda3/lib/python3.9/site-packages (from -r ../rasa_bot/requirements_rasa.txt (line 93)) (0.1.5)\n",
      "Requirement already satisfied: rasa==3.2.10 in /workspace/.miniconda3/lib/python3.9/site-packages (from -r ../rasa_bot/requirements_rasa.txt (line 94)) (3.2.10)\n",
      "Requirement already satisfied: rasa-sdk==3.2.2 in /workspace/.miniconda3/lib/python3.9/site-packages (from -r ../rasa_bot/requirements_rasa.txt (line 95)) (3.2.2)\n",
      "Requirement already satisfied: redis==3.5.3 in /workspace/.miniconda3/lib/python3.9/site-packages (from -r ../rasa_bot/requirements_rasa.txt (line 96)) (3.5.3)\n",
      "Requirement already satisfied: regex==2022.4.24 in /workspace/.miniconda3/lib/python3.9/site-packages (from -r ../rasa_bot/requirements_rasa.txt (line 97)) (2022.4.24)\n",
      "Requirement already satisfied: requests==2.28.1 in /workspace/.miniconda3/lib/python3.9/site-packages (from -r ../rasa_bot/requirements_rasa.txt (line 98)) (2.28.1)\n",
      "Requirement already satisfied: requests-oauthlib==1.3.1 in /workspace/.miniconda3/lib/python3.9/site-packages (from -r ../rasa_bot/requirements_rasa.txt (line 99)) (1.3.1)\n",
      "Requirement already satisfied: requests-toolbelt==0.10.0 in /workspace/.miniconda3/lib/python3.9/site-packages (from -r ../rasa_bot/requirements_rasa.txt (line 100)) (0.10.0)\n",
      "Requirement already satisfied: rocketchat-API==1.25.0 in /workspace/.miniconda3/lib/python3.9/site-packages (from -r ../rasa_bot/requirements_rasa.txt (line 101)) (1.25.0)\n",
      "Requirement already satisfied: rsa==4.9 in /workspace/.miniconda3/lib/python3.9/site-packages (from -r ../rasa_bot/requirements_rasa.txt (line 102)) (4.9)\n",
      "Requirement already satisfied: ruamel.yaml==0.16.13 in /workspace/.miniconda3/lib/python3.9/site-packages (from -r ../rasa_bot/requirements_rasa.txt (line 103)) (0.16.13)\n",
      "Requirement already satisfied: ruamel.yaml.clib==0.2.6 in /workspace/.miniconda3/lib/python3.9/site-packages (from -r ../rasa_bot/requirements_rasa.txt (line 104)) (0.2.6)\n",
      "Requirement already satisfied: s3transfer==0.6.0 in /workspace/.miniconda3/lib/python3.9/site-packages (from -r ../rasa_bot/requirements_rasa.txt (line 105)) (0.6.0)\n",
      "Requirement already satisfied: sanic==21.12.2 in /workspace/.miniconda3/lib/python3.9/site-packages (from -r ../rasa_bot/requirements_rasa.txt (line 106)) (21.12.2)\n",
      "Requirement already satisfied: Sanic-Cors==2.0.1 in /workspace/.miniconda3/lib/python3.9/site-packages (from -r ../rasa_bot/requirements_rasa.txt (line 107)) (2.0.1)\n",
      "Requirement already satisfied: sanic-jwt==1.8.0 in /workspace/.miniconda3/lib/python3.9/site-packages (from -r ../rasa_bot/requirements_rasa.txt (line 108)) (1.8.0)\n",
      "Requirement already satisfied: sanic-routing==0.7.2 in /workspace/.miniconda3/lib/python3.9/site-packages (from -r ../rasa_bot/requirements_rasa.txt (line 109)) (0.7.2)\n",
      "Requirement already satisfied: scikit-learn==0.24.2 in /workspace/.miniconda3/lib/python3.9/site-packages (from -r ../rasa_bot/requirements_rasa.txt (line 110)) (0.24.2)\n",
      "Requirement already satisfied: scipy==1.7.3 in /workspace/.miniconda3/lib/python3.9/site-packages (from -r ../rasa_bot/requirements_rasa.txt (line 111)) (1.7.3)\n",
      "Requirement already satisfied: sentry-sdk==1.3.1 in /workspace/.miniconda3/lib/python3.9/site-packages (from -r ../rasa_bot/requirements_rasa.txt (line 112)) (1.3.1)\n",
      "Requirement already satisfied: six==1.16.0 in /workspace/.miniconda3/lib/python3.9/site-packages (from -r ../rasa_bot/requirements_rasa.txt (line 113)) (1.16.0)\n",
      "Requirement already satisfied: sklearn-crfsuite==0.3.6 in /workspace/.miniconda3/lib/python3.9/site-packages (from -r ../rasa_bot/requirements_rasa.txt (line 114)) (0.3.6)\n",
      "Requirement already satisfied: slackclient==2.9.4 in /workspace/.miniconda3/lib/python3.9/site-packages (from -r ../rasa_bot/requirements_rasa.txt (line 115)) (2.9.4)\n",
      "Requirement already satisfied: SQLAlchemy==1.4.41 in /workspace/.miniconda3/lib/python3.9/site-packages (from -r ../rasa_bot/requirements_rasa.txt (line 116)) (1.4.41)\n",
      "Requirement already satisfied: tabulate==0.9.0 in /workspace/.miniconda3/lib/python3.9/site-packages (from -r ../rasa_bot/requirements_rasa.txt (line 117)) (0.9.0)\n",
      "Requirement already satisfied: tarsafe==0.0.3 in /workspace/.miniconda3/lib/python3.9/site-packages (from -r ../rasa_bot/requirements_rasa.txt (line 118)) (0.0.3)\n",
      "Requirement already satisfied: tensorboard==2.10.1 in /workspace/.miniconda3/lib/python3.9/site-packages (from -r ../rasa_bot/requirements_rasa.txt (line 119)) (2.10.1)\n",
      "Requirement already satisfied: tensorboard-data-server==0.6.1 in /workspace/.miniconda3/lib/python3.9/site-packages (from -r ../rasa_bot/requirements_rasa.txt (line 120)) (0.6.1)\n",
      "Requirement already satisfied: tensorboard-plugin-wit==1.8.1 in /workspace/.miniconda3/lib/python3.9/site-packages (from -r ../rasa_bot/requirements_rasa.txt (line 121)) (1.8.1)\n",
      "Requirement already satisfied: tensorflow==2.7.4 in /workspace/.miniconda3/lib/python3.9/site-packages (from -r ../rasa_bot/requirements_rasa.txt (line 122)) (2.7.4)\n",
      "Requirement already satisfied: tensorflow-addons==0.15.0 in /workspace/.miniconda3/lib/python3.9/site-packages (from -r ../rasa_bot/requirements_rasa.txt (line 123)) (0.15.0)\n",
      "Requirement already satisfied: tensorflow-estimator==2.7.0 in /workspace/.miniconda3/lib/python3.9/site-packages (from -r ../rasa_bot/requirements_rasa.txt (line 124)) (2.7.0)\n",
      "Requirement already satisfied: tensorflow-hub==0.12.0 in /workspace/.miniconda3/lib/python3.9/site-packages (from -r ../rasa_bot/requirements_rasa.txt (line 125)) (0.12.0)\n",
      "Requirement already satisfied: tensorflow-io-gcs-filesystem==0.27.0 in /workspace/.miniconda3/lib/python3.9/site-packages (from -r ../rasa_bot/requirements_rasa.txt (line 126)) (0.27.0)\n",
      "Requirement already satisfied: tensorflow-text==2.7.3 in /workspace/.miniconda3/lib/python3.9/site-packages (from -r ../rasa_bot/requirements_rasa.txt (line 127)) (2.7.3)\n",
      "Requirement already satisfied: termcolor==2.0.1 in /workspace/.miniconda3/lib/python3.9/site-packages (from -r ../rasa_bot/requirements_rasa.txt (line 128)) (2.0.1)\n",
      "Requirement already satisfied: terminaltables==3.1.10 in /workspace/.miniconda3/lib/python3.9/site-packages (from -r ../rasa_bot/requirements_rasa.txt (line 129)) (3.1.10)\n",
      "Requirement already satisfied: threadpoolctl==3.1.0 in /workspace/.miniconda3/lib/python3.9/site-packages (from -r ../rasa_bot/requirements_rasa.txt (line 130)) (3.1.0)\n",
      "Requirement already satisfied: toolz==0.12.0 in /workspace/.miniconda3/lib/python3.9/site-packages (from -r ../rasa_bot/requirements_rasa.txt (line 131)) (0.12.0)\n",
      "Requirement already satisfied: tqdm==4.64.1 in /workspace/.miniconda3/lib/python3.9/site-packages (from -r ../rasa_bot/requirements_rasa.txt (line 132)) (4.64.1)\n",
      "Requirement already satisfied: twilio==6.50.1 in /workspace/.miniconda3/lib/python3.9/site-packages (from -r ../rasa_bot/requirements_rasa.txt (line 133)) (6.50.1)\n",
      "Requirement already satisfied: typeguard==2.13.3 in /workspace/.miniconda3/lib/python3.9/site-packages (from -r ../rasa_bot/requirements_rasa.txt (line 134)) (2.13.3)\n",
      "Requirement already satisfied: types-cryptography==3.3.23 in /workspace/.miniconda3/lib/python3.9/site-packages (from -r ../rasa_bot/requirements_rasa.txt (line 135)) (3.3.23)\n",
      "Requirement already satisfied: typing-extensions==3.10.0.2 in /workspace/.miniconda3/lib/python3.9/site-packages (from -r ../rasa_bot/requirements_rasa.txt (line 136)) (3.10.0.2)\n",
      "Requirement already satisfied: typing-utils==0.1.0 in /workspace/.miniconda3/lib/python3.9/site-packages (from -r ../rasa_bot/requirements_rasa.txt (line 137)) (0.1.0)\n",
      "Requirement already satisfied: tzlocal==2.1 in /workspace/.miniconda3/lib/python3.9/site-packages (from -r ../rasa_bot/requirements_rasa.txt (line 138)) (2.1)\n",
      "Requirement already satisfied: ujson==5.5.0 in /workspace/.miniconda3/lib/python3.9/site-packages (from -r ../rasa_bot/requirements_rasa.txt (line 139)) (5.5.0)\n",
      "Requirement already satisfied: urllib3==1.26.12 in /workspace/.miniconda3/lib/python3.9/site-packages (from -r ../rasa_bot/requirements_rasa.txt (line 140)) (1.26.12)\n",
      "Requirement already satisfied: uvloop==0.17.0 in /workspace/.miniconda3/lib/python3.9/site-packages (from -r ../rasa_bot/requirements_rasa.txt (line 141)) (0.17.0)\n",
      "Requirement already satisfied: wcwidth==0.2.5 in /workspace/.miniconda3/lib/python3.9/site-packages (from -r ../rasa_bot/requirements_rasa.txt (line 142)) (0.2.5)\n",
      "Requirement already satisfied: webexteamssdk==1.6.1 in /workspace/.miniconda3/lib/python3.9/site-packages (from -r ../rasa_bot/requirements_rasa.txt (line 143)) (1.6.1)\n",
      "Requirement already satisfied: websockets==10.3 in /workspace/.miniconda3/lib/python3.9/site-packages (from -r ../rasa_bot/requirements_rasa.txt (line 144)) (10.3)\n",
      "Requirement already satisfied: Werkzeug==2.2.2 in /workspace/.miniconda3/lib/python3.9/site-packages (from -r ../rasa_bot/requirements_rasa.txt (line 145)) (2.2.2)\n",
      "Requirement already satisfied: wrapt==1.14.1 in /workspace/.miniconda3/lib/python3.9/site-packages (from -r ../rasa_bot/requirements_rasa.txt (line 146)) (1.14.1)\n",
      "Requirement already satisfied: yarl==1.8.1 in /workspace/.miniconda3/lib/python3.9/site-packages (from -r ../rasa_bot/requirements_rasa.txt (line 147)) (1.8.1)\n",
      "Requirement already satisfied: zipp==3.9.0 in /workspace/.miniconda3/lib/python3.9/site-packages (from -r ../rasa_bot/requirements_rasa.txt (line 148)) (3.9.0)\n",
      "Requirement already satisfied: setuptools>=0.7 in /workspace/.miniconda3/lib/python3.9/site-packages (from APScheduler==3.7.0->-r ../rasa_bot/requirements_rasa.txt (line 7)) (52.0.0.post20210125)\n",
      "Requirement already satisfied: wheel<1.0,>=0.23.0 in /workspace/.miniconda3/lib/python3.9/site-packages (from astunparse==1.6.3->-r ../rasa_bot/requirements_rasa.txt (line 8)) (0.36.2)\n",
      "\n",
      "\u001b[1m[\u001b[0m\u001b[34;49mnotice\u001b[0m\u001b[1;39;49m]\u001b[0m\u001b[39;49m A new release of pip available: \u001b[0m\u001b[31;49m22.2.2\u001b[0m\u001b[39;49m -> \u001b[0m\u001b[32;49m22.3.1\u001b[0m\n",
      "\u001b[1m[\u001b[0m\u001b[34;49mnotice\u001b[0m\u001b[1;39;49m]\u001b[0m\u001b[39;49m To update, run: \u001b[0m\u001b[32;49mpip install --upgrade pip\u001b[0m\n",
      "Note: you may need to restart the kernel to use updated packages.\n"
     ]
    }
   ],
   "source": [
    "%conda install pip\n",
    "%pip install --no-cache-dir -r public-repo-git/rasa_bot/requirements_rasa.txt"
   ]
  },
  {
   "cell_type": "markdown",
   "metadata": {},
   "source": [
    "## Create the rasa chatbot\n",
    "\n",
    "To Create the chatbot, you will need some data and some configurations files. Of course, you don't have to create them. The rasa package will do it for you. First we will need to install the nest_asynchio package. Just run the next cell and then we will init a small chatbot !\n"
   ]
  },
  {
   "cell_type": "code",
   "execution_count": 2,
   "metadata": {
    "collapsed": true,
    "jupyter": {
     "outputs_hidden": true
    },
    "tags": []
   },
   "outputs": [
    {
     "name": "stdout",
     "output_type": "stream",
     "text": [
      "Requirement already satisfied: nest_asyncio in /workspace/.miniconda3/lib/python3.9/site-packages (1.5.6)\n",
      "\n",
      "\u001b[1m[\u001b[0m\u001b[34;49mnotice\u001b[0m\u001b[1;39;49m]\u001b[0m\u001b[39;49m A new release of pip available: \u001b[0m\u001b[31;49m22.2.2\u001b[0m\u001b[39;49m -> \u001b[0m\u001b[32;49m22.3.1\u001b[0m\n",
      "\u001b[1m[\u001b[0m\u001b[34;49mnotice\u001b[0m\u001b[1;39;49m]\u001b[0m\u001b[39;49m To update, run: \u001b[0m\u001b[32;49mpip install --upgrade pip\u001b[0m\n",
      "Note: you may need to restart the kernel to use updated packages.\n"
     ]
    }
   ],
   "source": [
    "%pip install nest_asyncio\n",
    "\n",
    "import nest_asyncio"
   ]
  },
  {
   "cell_type": "markdown",
   "metadata": {},
   "source": [
    "Now that we have all the requirements installed, let's create the rasa chatbot. We will create a project. To do this, run this cell. And look, our chatbot has been created ! "
   ]
  },
  {
   "cell_type": "code",
   "execution_count": 3,
   "metadata": {
    "collapsed": true,
    "jupyter": {
     "outputs_hidden": true
    },
    "tags": []
   },
   "outputs": [
    {
     "name": "stdout",
     "output_type": "stream",
     "text": [
      "['tests', 'actions', 'domain.yml', 'endpoints.yml', 'credentials.yml', 'config.yml', 'data']\n"
     ]
    }
   ],
   "source": [
    "from rasa.cli.scaffold import create_initial_project\n",
    "import os\n",
    "\n",
    "\n",
    "project = \"test-project\"\n",
    "create_initial_project(project)\n",
    "\n",
    "# move into project directory and show files\n",
    "os.chdir(project)\n",
    "print(os.listdir(\".\"))"
   ]
  },
  {
   "cell_type": "markdown",
   "metadata": {},
   "source": [
    "## Train the model of your project\n",
    "\n",
    "Ok now, that we have a project created, we will go inside it. This has already be done with the creation of the project. So now, let's just create the rasa model.\n",
    "\n",
    "To do, we have to tell to rasa which files needed for the training of the model. Let's run this cell : "
   ]
  },
  {
   "cell_type": "code",
   "execution_count": 4,
   "metadata": {
    "collapsed": true,
    "jupyter": {
     "outputs_hidden": true
    }
   },
   "outputs": [
    {
     "name": "stdout",
     "output_type": "stream",
     "text": [
      "config.yml data/ domain.yml models/\n"
     ]
    }
   ],
   "source": [
    "config = \"config.yml\"\n",
    "training_files = \"data/\"\n",
    "domain = \"domain.yml\"\n",
    "output = \"models/\"\n",
    "print(config, training_files, domain, output)"
   ]
  },
  {
   "cell_type": "markdown",
   "metadata": {},
   "source": [
    "Now, we are all set to train the model. The model will be save in the output folder. We use the function rasa.train and this function will return the path of where the model will be save. "
   ]
  },
  {
   "cell_type": "code",
   "execution_count": 5,
   "metadata": {
    "collapsed": true,
    "jupyter": {
     "outputs_hidden": true
    }
   },
   "outputs": [
    {
     "name": "stderr",
     "output_type": "stream",
     "text": [
      "/workspace/.miniconda3/lib/python3.9/site-packages/future/standard_library/__init__.py:65: DeprecationWarning: the imp module is deprecated in favour of importlib; see the module's documentation for alternative uses\n",
      "  import imp\n",
      "/workspace/.miniconda3/lib/python3.9/site-packages/requests_toolbelt/_compat.py:56: DeprecationWarning: 'urllib3.contrib.pyopenssl' module is deprecated and will be removed in a future release of urllib3 2.x. Read more in this issue: https://github.com/urllib3/urllib3/issues/2680\n",
      "  from requests.packages.urllib3.contrib.pyopenssl \\\n"
     ]
    },
    {
     "name": "stdout",
     "output_type": "stream",
     "text": [
      "\u001b[94mThe configuration for pipeline and policies was chosen automatically. It was written into the config file at 'config.yml'.\u001b[0m\n"
     ]
    },
    {
     "name": "stderr",
     "output_type": "stream",
     "text": [
      "2022-11-21 11:49:14.703098: W tensorflow/stream_executor/platform/default/dso_loader.cc:64] Could not load dynamic library 'libcuda.so.1'; dlerror: libcuda.so.1: cannot open shared object file: No such file or directory; LD_LIBRARY_PATH: /usr/local/nvidia/lib:/usr/local/nvidia/lib64\n",
      "2022-11-21 11:49:14.703144: W tensorflow/stream_executor/cuda/cuda_driver.cc:269] failed call to cuInit: UNKNOWN ERROR (303)\n",
      "/workspace/.miniconda3/lib/python3.9/site-packages/rasa/utils/tensorflow/model_data.py:762: VisibleDeprecationWarning: Creating an ndarray from ragged nested sequences (which is a list-or-tuple of lists-or-tuples-or ndarrays with different lengths or shapes) is deprecated. If you meant to do this, you must specify 'dtype=object' when creating the ndarray\n",
      "  np.concatenate(np.array(f)),\n",
      "Epochs: 100%|██████████| 100/100 [00:26<00:00,  3.73it/s, t_loss=1.05, i_acc=1]   \n",
      "Processed story blocks: 100%|██████████| 3/3 [00:00<00:00, 372.14it/s, # trackers=1]\n",
      "Processed story blocks: 100%|██████████| 3/3 [00:00<00:00, 182.29it/s, # trackers=3]\n",
      "Processed story blocks: 100%|██████████| 3/3 [00:00<00:00, 155.14it/s, # trackers=12]\n",
      "Processed story blocks: 100%|██████████| 3/3 [00:00<00:00, 32.77it/s, # trackers=39]\n",
      "Processed rules: 100%|██████████| 2/2 [00:00<00:00, 615.81it/s, # trackers=1]\n",
      "Processed trackers: 100%|██████████| 3/3 [00:00<00:00, 165.39it/s, # action=12]\n",
      "Processed actions: 12it [00:00, 1015.22it/s, # examples=12]\n",
      "Processed trackers: 100%|██████████| 2/2 [00:00<00:00, 192.59it/s, # action=5]\n",
      "Processed actions: 5it [00:00, 1470.14it/s, # examples=4]\n",
      "Processed trackers: 100%|██████████| 3/3 [00:00<00:00, 301.95it/s, # action=12]\n",
      "Processed trackers: 100%|██████████| 2/2 [00:00<00:00, 676.83it/s]\n",
      "Processed trackers: 100%|██████████| 5/5 [00:00<00:00, 973.20it/s]\n",
      "Processed trackers: 100%|██████████| 120/120 [00:00<00:00, 1512.98it/s, # action=30]\n",
      "/workspace/.miniconda3/lib/python3.9/site-packages/rasa/utils/tensorflow/model_data_utils.py:388: VisibleDeprecationWarning: Creating an ndarray from ragged nested sequences (which is a list-or-tuple of lists-or-tuples-or ndarrays with different lengths or shapes) is deprecated. If you meant to do this, you must specify 'dtype=object' when creating the ndarray\n",
      "  np.array(values), number_of_dimensions=4\n",
      "/workspace/.miniconda3/lib/python3.9/site-packages/rasa/utils/tensorflow/model_data_utils.py:404: VisibleDeprecationWarning: Creating an ndarray from ragged nested sequences (which is a list-or-tuple of lists-or-tuples-or ndarrays with different lengths or shapes) is deprecated. If you meant to do this, you must specify 'dtype=object' when creating the ndarray\n",
      "  MASK: [FeatureArray(np.array(attribute_masks), number_of_dimensions=3)]\n",
      "Epochs:   0%|          | 0/100 [00:00<?, ?it/s]/workspace/.miniconda3/lib/python3.9/site-packages/tensorflow/python/framework/indexed_slices.py:448: UserWarning: Converting sparse IndexedSlices(IndexedSlices(indices=Tensor(\"gradients/cond_grad/Identity_1:0\", shape=(None,), dtype=int64), values=Tensor(\"gradients/cond_grad/Identity:0\", shape=(None,), dtype=float32), dense_shape=Tensor(\"gradients/cond_grad/Identity_2:0\", shape=(1,), dtype=int32))) to a dense Tensor of unknown shape. This may consume a large amount of memory.\n",
      "  warnings.warn(\n",
      "/workspace/.miniconda3/lib/python3.9/site-packages/tensorflow/python/framework/indexed_slices.py:448: UserWarning: Converting sparse IndexedSlices(IndexedSlices(indices=Tensor(\"gradients/cond_1_grad/Identity_1:0\", shape=(None,), dtype=int64), values=Tensor(\"gradients/cond_1_grad/Identity:0\", shape=(None,), dtype=float32), dense_shape=Tensor(\"gradients/cond_1_grad/Identity_2:0\", shape=(1,), dtype=int32))) to a dense Tensor of unknown shape. This may consume a large amount of memory.\n",
      "  warnings.warn(\n",
      "Epochs: 100%|██████████| 100/100 [00:18<00:00,  5.46it/s, t_loss=3.05, loss=2.9, acc=0.967] \n",
      "Processed trackers: 100%|██████████| 120/120 [00:00<00:00, 2525.81it/s, # intent=12]\n",
      "Epochs: 100%|██████████| 100/100 [00:16<00:00,  6.11it/s, t_loss=0.127, loss=0.0156, acc=1]   \n"
     ]
    },
    {
     "name": "stdout",
     "output_type": "stream",
     "text": [
      "\u001b[92mYour Rasa model is trained and saved at 'models/20221121-114912-fancy-formation.tar.gz'.\u001b[0m\n",
      "TrainingResult(model='models/20221121-114912-fancy-formation.tar.gz', code=0, dry_run_results=None)\n"
     ]
    }
   ],
   "source": [
    "import rasa\n",
    "\n",
    "model_path = rasa.train(domain, config, [training_files], output)\n",
    "print(model_path)"
   ]
  },
  {
   "cell_type": "markdown",
   "metadata": {
    "tags": []
   },
   "source": [
    "## Play with the chatbot\n",
    "\n",
    "Now that we have our model, let's try to play with the chatbot and speak with him. Run the above cell and you will be able to play with him. The cell will create an agent to speak with you. The chatbot can only speak to say hello or good bye, it is not a full chatbot because you've just create it. "
   ]
  },
  {
   "cell_type": "code",
   "execution_count": 6,
   "metadata": {
    "collapsed": true,
    "jupyter": {
     "outputs_hidden": true
    },
    "tags": []
   },
   "outputs": [
    {
     "name": "stdout",
     "output_type": "stream",
     "text": [
      "Event loop ready.\n",
      "Enter '/stop' if you want to stop the conversation with your chatbot ! \n"
     ]
    },
    {
     "name": "stdout",
     "output_type": "stream",
     "text": [
      " hi\n"
     ]
    },
    {
     "name": "stderr",
     "output_type": "stream",
     "text": [
      "/workspace/.miniconda3/lib/python3.9/site-packages/tensorflow/python/framework/indexed_slices.py:448: UserWarning: Converting sparse IndexedSlices(IndexedSlices(indices=Tensor(\"gradients/cond_grad/Identity_1:0\", shape=(None,), dtype=int64), values=Tensor(\"gradients/cond_grad/Identity:0\", shape=(None,), dtype=float32), dense_shape=Tensor(\"gradients/cond_grad/Identity_2:0\", shape=(1,), dtype=int32))) to a dense Tensor of unknown shape. This may consume a large amount of memory.\n",
      "  warnings.warn(\n",
      "/workspace/.miniconda3/lib/python3.9/site-packages/tensorflow/python/framework/indexed_slices.py:448: UserWarning: Converting sparse IndexedSlices(IndexedSlices(indices=Tensor(\"gradients/cond_1_grad/Identity_1:0\", shape=(None,), dtype=int64), values=Tensor(\"gradients/cond_1_grad/Identity:0\", shape=(None,), dtype=float32), dense_shape=Tensor(\"gradients/cond_1_grad/Identity_2:0\", shape=(1,), dtype=int32))) to a dense Tensor of unknown shape. This may consume a large amount of memory.\n",
      "  warnings.warn(\n"
     ]
    },
    {
     "name": "stdout",
     "output_type": "stream",
     "text": [
      "Hey! How are you?\n"
     ]
    },
    {
     "name": "stdout",
     "output_type": "stream",
     "text": [
      " /stop\n"
     ]
    }
   ],
   "source": [
    "from rasa.core.agent import Agent\n",
    "from typing import Any, Dict, Text, Optional\n",
    "import asyncio\n",
    "import nest_asyncio\n",
    "nest_asyncio.apply()\n",
    "print(\"Event loop ready.\")\n",
    "\n",
    "def _display_bot_response(response: Dict):\n",
    "    from IPython.display import Image, display  # pytype: disable=import-error\n",
    "\n",
    "    for response_type, value in response.items():\n",
    "        if response_type == \"text\":\n",
    "            print(value)\n",
    "\n",
    "def handle_text(message):\n",
    "    agent= Agent.load(r\"models\")\n",
    "    \n",
    "    loop = asyncio.get_event_loop()\n",
    "\n",
    "    responses = loop.run_until_complete(agent.handle_text(message))\n",
    "    for response in responses:\n",
    "        _display_bot_response(response)\n",
    "        \n",
    "stop=True\n",
    "print(\"Enter '/stop' if you want to stop the conversation with your chatbot ! \")\n",
    "while (stop):\n",
    "    message=input()\n",
    "    if (message==\"/stop\"):\n",
    "        stop=False\n",
    "    else:\n",
    "        handle_text(message)"
   ]
  }
 ],
 "metadata": {
  "kernelspec": {
   "display_name": "Conda",
   "language": "python",
   "name": "python3"
  },
  "language_info": {
   "codemirror_mode": {
    "name": "ipython",
    "version": 3
   },
   "file_extension": ".py",
   "mimetype": "text/x-python",
   "name": "python",
   "nbconvert_exporter": "python",
   "pygments_lexer": "ipython3",
   "version": "3.9.5"
  },
  "vscode": {
   "interpreter": {
    "hash": "916dbcbb3f70747c44a77c7bcd40155683ae19c65e1c03b4aa3499c5328201f1"
   }
  }
 },
 "nbformat": 4,
 "nbformat_minor": 4
}
