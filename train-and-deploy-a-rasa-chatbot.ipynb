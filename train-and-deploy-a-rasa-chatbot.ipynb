{
 "cells": [
  {
   "cell_type": "markdown",
   "metadata": {},
   "source": [
    "# Tutorial : Train and deploy a rasa chatbot\n",
    "\n",
    "The goal of this tutorial is to train and deploy a simple rasa chatbot. To do this, once you have clone the repo git, you can directly go in the folder rasa_bot and then we will train the model to have a model saved in the folder models. \n"
   ]
  },
  {
   "cell_type": "code",
   "execution_count": null,
   "metadata": {},
   "outputs": [
    {
     "ename": "",
     "evalue": "",
     "output_type": "error",
     "traceback": [
      "\u001b[1;31mRunning cells with 'Python 3.10.4 ('test')' requires ipykernel package.\n",
      "\u001b[1;31mRun the following command to install 'ipykernel' into the Python environment. \n",
      "\u001b[1;31mCommand: 'conda install -n test ipykernel --update-deps --force-reinstall'"
     ]
    }
   ],
   "source": [
    "!cd rasa_bot\n",
    "!rasa train"
   ]
  }
 ],
 "metadata": {
  "kernelspec": {
   "display_name": "Python 3.10.4 ('test')",
   "language": "python",
   "name": "python3"
  },
  "language_info": {
   "codemirror_mode": {
    "name": "ipython",
    "version": 3
   },
   "file_extension": ".py",
   "mimetype": "text/x-python",
   "name": "python",
   "nbconvert_exporter": "python",
   "pygments_lexer": "ipython3",
   "version": "3.10.4"
  },
  "orig_nbformat": 4,
  "vscode": {
   "interpreter": {
    "hash": "13c3bae9684b08e7e0140d4d0f4a2dce55a56ff1b5fe636721e9eeda7dc714a0"
   }
  }
 },
 "nbformat": 4,
 "nbformat_minor": 2
}
